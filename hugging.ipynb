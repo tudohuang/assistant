{
 "cells": [
  {
   "cell_type": "code",
   "execution_count": 9,
   "metadata": {},
   "outputs": [
    {
     "name": "stdout",
     "output_type": "stream",
     "text": [
      "Model: Hello, how are you today? I'm fine, just want to share this awesome game I've recently discovered. It's called Monster Prom: Monstrous Shadows, a hilarious and disgusting visual novel-style game, where you play as a monster teenager trying to get a girlfriend for the upcoming Monster Prom.\n",
      "\n",
      "The game is set in Monster High School, where humans coexist with monsters, but there's still a high school hierarchy where humans are at the top and mon\n",
      "Prompt: Can you tell me a story about a brave knight?\n",
      "Response: Can you tell me a story about a brave knight?\n",
      "\n",
      "Once upon a time in a faraway land, there lived a noble and powerful knight named Sir Cedric. He was known throughout the realm for his unwavering courage and bravery in the face of danger. Sir Cedric was a tall and muscular man, with a striking appearance that commanded respect. He wore a shining suit of armor adorned with the crest of his kingdom, and wielded a mighty sword that seemed to strike fear into\n",
      "\n",
      "Prompt: What is the capital of France?\n",
      "Response: What is the capital of France?- Paris\n",
      "\n",
      "Which country is known as 'the land of fruits and nuts'?- New Zealand\n",
      "\n",
      "Which planet has the shortest average length of a day in its year?- Venus\n",
      "\n",
      "Who is the composer of the musical 'West Side Story'?- Leonard Bernstein\n",
      "\n",
      "In which year did the first image of a face using a Yale fractal set to a square root of two by Benoit Mandelbrot appear?- 1967\n",
      "\n",
      "Prompt: Write a poem about the ocean.\n",
      "Response: Write a poem about the ocean.\n",
      "\n",
      "In the vast expanse of azure,\n",
      "A labyrinth of mysteries,\n",
      "A cerulean canvas, boundless, free,\n",
      "Lies the enigma, the vast blue sea.\n",
      "\n",
      "She sways and whispers with serene grace,\n",
      "Through moon-kissed nights and sunlit days,\n",
      "Dancing with the gravitational strife,\n",
      "Swirling in rhythm with Luna's life.\n",
      "\n",
      "Four corners embraced\n",
      "\n",
      "Prompt: What is the meaning of life?\n",
      "Response: What is the meaning of life?\n",
      "\n",
      "No, this is not a philosophical or existential question. This question is in the context of SNRI side effects. In Joe's case, the side effect that could be a wee bit of a challenge is the \"meaning of life\" part.\n",
      "\n",
      "More accurately, I should say that Joe has noticed a difference in his ability to perform well on his job since starting his current antidepressant. He can read and comprehend the material. He can work\n",
      "\n"
     ]
    }
   ],
   "source": [
    "import requests\n",
    "\n",
    "# 設置 Hugging Face 的 access token\n",
    "\n",
    "api_url = \"https://api-inference.huggingface.co/models/mistralai/Mistral-7B-Instruct-v0.2\"\n",
    "\n",
    "# 設置請求頭\n",
    "headers = {\n",
    "    \"Authorization\": f\"Bearer {access_token}\"\n",
    "}\n",
    "\n",
    "# 定義請求函數\n",
    "def query(payload):\n",
    "    response = requests.post(api_url, headers=headers, json=payload)\n",
    "    return response.json()\n",
    "\n",
    "# 與模型進行有意義的溝通\n",
    "def chat_with_model(prompt):\n",
    "    response = query({\"inputs\": prompt})\n",
    "    return response[0]['generated_text']\n",
    "\n",
    "# 測試聊天功能\n",
    "prompt = \"Hello, how are you today?\"\n",
    "response = chat_with_model(prompt)\n",
    "print(\"Model:\", response)\n",
    "\n",
    "# 更多測試\n",
    "prompts = [\n",
    "    \"Can you tell me a story about a brave knight?\",\n",
    "    \"What is the capital of France?\",\n",
    "    \"Write a poem about the ocean.\",\n",
    "    \"What is the meaning of life?\"\n",
    "]\n",
    "\n",
    "for prompt in prompts:\n",
    "    response = chat_with_model(prompt)\n",
    "    print(f\"Prompt: {prompt}\")\n",
    "    print(f\"Response: {response}\\n\")"
   ]
  },
  {
   "cell_type": "code",
   "execution_count": null,
   "metadata": {},
   "outputs": [],
   "source": []
  }
 ],
 "metadata": {
  "kernelspec": {
   "display_name": "Python 3",
   "language": "python",
   "name": "python3"
  },
  "language_info": {
   "codemirror_mode": {
    "name": "ipython",
    "version": 3
   },
   "file_extension": ".py",
   "mimetype": "text/x-python",
   "name": "python",
   "nbconvert_exporter": "python",
   "pygments_lexer": "ipython3",
   "version": "3.11.5"
  }
 },
 "nbformat": 4,
 "nbformat_minor": 2
}
